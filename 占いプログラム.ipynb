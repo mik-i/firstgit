{
  "nbformat": 4,
  "nbformat_minor": 0,
  "metadata": {
    "colab": {
      "provenance": [],
      "authorship_tag": "ABX9TyPs1AX3erVFvF8RBx4XcXRl",
      "include_colab_link": true
    },
    "kernelspec": {
      "name": "python3",
      "display_name": "Python 3"
    },
    "language_info": {
      "name": "python"
    }
  },
  "cells": [
    {
      "cell_type": "markdown",
      "metadata": {
        "id": "view-in-github",
        "colab_type": "text"
      },
      "source": [
        "<a href=\"https://colab.research.google.com/github/mik-i/firstgit/blob/main/%E5%8D%A0%E3%81%84%E3%83%97%E3%83%AD%E3%82%B0%E3%83%A9%E3%83%A0.ipynb\" target=\"_parent\"><img src=\"https://colab.research.google.com/assets/colab-badge.svg\" alt=\"Open In Colab\"/></a>"
      ]
    },
    {
      "cell_type": "code",
      "execution_count": null,
      "metadata": {
        "colab": {
          "base_uri": "https://localhost:8080/"
        },
        "id": "E396Z0AdUXE6",
        "outputId": "c065f6d4-526f-48da-94b3-50d97683fa5f"
      },
      "outputs": [
        {
          "output_type": "stream",
          "name": "stdout",
          "text": [
            "1\n",
            "chukichi\n"
          ]
        }
      ],
      "source": [
        "import random\n",
        "\n",
        "n = random.randint(0,2)\n",
        "\n",
        "if n == 0:\n",
        "  unsei = \"daikichi\"\n",
        "elif n == 1:\n",
        "  unsei = \"chukichi\"\n",
        "else:\n",
        "  unsei = \"shokichi\"\n",
        "\n",
        "print(unsei)"
      ]
    },
    {
      "cell_type": "code",
      "source": [],
      "metadata": {
        "id": "_CE_Ws-NUhGE"
      },
      "execution_count": null,
      "outputs": []
    }
  ]
}